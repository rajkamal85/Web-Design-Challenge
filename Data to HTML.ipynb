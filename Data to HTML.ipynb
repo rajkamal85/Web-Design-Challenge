{
 "cells": [
  {
   "cell_type": "code",
   "execution_count": 8,
   "metadata": {},
   "outputs": [],
   "source": [
    "import pandas as pd"
   ]
  },
  {
   "cell_type": "code",
   "execution_count": 9,
   "metadata": {},
   "outputs": [
    {
     "data": {
      "text/html": [
       "<div>\n",
       "<style scoped>\n",
       "    .dataframe tbody tr th:only-of-type {\n",
       "        vertical-align: middle;\n",
       "    }\n",
       "\n",
       "    .dataframe tbody tr th {\n",
       "        vertical-align: top;\n",
       "    }\n",
       "\n",
       "    .dataframe thead th {\n",
       "        text-align: right;\n",
       "    }\n",
       "</style>\n",
       "<table border=\"1\" class=\"dataframe\">\n",
       "  <thead>\n",
       "    <tr style=\"text-align: right;\">\n",
       "      <th></th>\n",
       "      <th>Cities</th>\n",
       "      <th>Cloudiness</th>\n",
       "      <th>Country</th>\n",
       "      <th>Date</th>\n",
       "      <th>Humidity</th>\n",
       "      <th>Lat</th>\n",
       "      <th>Lon</th>\n",
       "      <th>Max Temp</th>\n",
       "      <th>Wind Speed</th>\n",
       "    </tr>\n",
       "  </thead>\n",
       "  <tbody>\n",
       "    <tr>\n",
       "      <th>0</th>\n",
       "      <td>oktyabrskiy</td>\n",
       "      <td>68.0</td>\n",
       "      <td>RU</td>\n",
       "      <td>1.584065e+09</td>\n",
       "      <td>96.0</td>\n",
       "      <td>54.48</td>\n",
       "      <td>53.47</td>\n",
       "      <td>33.64</td>\n",
       "      <td>9.13</td>\n",
       "    </tr>\n",
       "    <tr>\n",
       "      <th>1</th>\n",
       "      <td>ribeira grande</td>\n",
       "      <td>25.0</td>\n",
       "      <td>PT</td>\n",
       "      <td>1.584065e+09</td>\n",
       "      <td>83.0</td>\n",
       "      <td>38.52</td>\n",
       "      <td>-28.70</td>\n",
       "      <td>55.51</td>\n",
       "      <td>8.66</td>\n",
       "    </tr>\n",
       "    <tr>\n",
       "      <th>2</th>\n",
       "      <td>nikolskoye</td>\n",
       "      <td>90.0</td>\n",
       "      <td>RU</td>\n",
       "      <td>1.584065e+09</td>\n",
       "      <td>96.0</td>\n",
       "      <td>59.70</td>\n",
       "      <td>30.79</td>\n",
       "      <td>35.01</td>\n",
       "      <td>6.71</td>\n",
       "    </tr>\n",
       "    <tr>\n",
       "      <th>3</th>\n",
       "      <td>samfya</td>\n",
       "      <td>100.0</td>\n",
       "      <td>ZM</td>\n",
       "      <td>1.584065e+09</td>\n",
       "      <td>98.0</td>\n",
       "      <td>-11.36</td>\n",
       "      <td>29.56</td>\n",
       "      <td>64.09</td>\n",
       "      <td>2.24</td>\n",
       "    </tr>\n",
       "    <tr>\n",
       "      <th>4</th>\n",
       "      <td>albany</td>\n",
       "      <td>75.0</td>\n",
       "      <td>US</td>\n",
       "      <td>1.584065e+09</td>\n",
       "      <td>85.0</td>\n",
       "      <td>42.60</td>\n",
       "      <td>-73.97</td>\n",
       "      <td>48.20</td>\n",
       "      <td>8.05</td>\n",
       "    </tr>\n",
       "  </tbody>\n",
       "</table>\n",
       "</div>"
      ],
      "text/plain": [
       "           Cities  Cloudiness Country          Date  Humidity    Lat    Lon  \\\n",
       "0     oktyabrskiy        68.0      RU  1.584065e+09      96.0  54.48  53.47   \n",
       "1  ribeira grande        25.0      PT  1.584065e+09      83.0  38.52 -28.70   \n",
       "2      nikolskoye        90.0      RU  1.584065e+09      96.0  59.70  30.79   \n",
       "3          samfya       100.0      ZM  1.584065e+09      98.0 -11.36  29.56   \n",
       "4          albany        75.0      US  1.584065e+09      85.0  42.60 -73.97   \n",
       "\n",
       "   Max Temp  Wind Speed  \n",
       "0     33.64        9.13  \n",
       "1     55.51        8.66  \n",
       "2     35.01        6.71  \n",
       "3     64.09        2.24  \n",
       "4     48.20        8.05  "
      ]
     },
     "execution_count": 9,
     "metadata": {},
     "output_type": "execute_result"
    }
   ],
   "source": [
    "df = pd.read_csv('weather.csv')\n",
    "del df['Unnamed: 0']\n",
    "df.head()"
   ]
  },
  {
   "cell_type": "code",
   "execution_count": 10,
   "metadata": {},
   "outputs": [],
   "source": [
    "df.to_html('table.html', na_rep='---')"
   ]
  },
  {
   "cell_type": "code",
   "execution_count": null,
   "metadata": {},
   "outputs": [],
   "source": []
  }
 ],
 "metadata": {
  "kernelspec": {
   "display_name": "Python 3",
   "language": "python",
   "name": "python3"
  },
  "language_info": {
   "codemirror_mode": {
    "name": "ipython",
    "version": 3
   },
   "file_extension": ".py",
   "mimetype": "text/x-python",
   "name": "python",
   "nbconvert_exporter": "python",
   "pygments_lexer": "ipython3",
   "version": "3.6.5"
  }
 },
 "nbformat": 4,
 "nbformat_minor": 2
}
